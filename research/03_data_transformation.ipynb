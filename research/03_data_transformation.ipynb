{
 "cells": [
  {
   "cell_type": "code",
   "execution_count": 1,
   "metadata": {},
   "outputs": [],
   "source": [
    "import os"
   ]
  },
  {
   "cell_type": "code",
   "execution_count": 2,
   "metadata": {},
   "outputs": [
    {
     "data": {
      "text/plain": [
       "'d:\\\\Inventory-Management-and-Predictive-Analytics-with-IOT\\\\research'"
      ]
     },
     "execution_count": 2,
     "metadata": {},
     "output_type": "execute_result"
    }
   ],
   "source": [
    "%pwd\n"
   ]
  },
  {
   "cell_type": "code",
   "execution_count": 3,
   "metadata": {},
   "outputs": [],
   "source": [
    "os.chdir(\"../\")\n"
   ]
  },
  {
   "cell_type": "code",
   "execution_count": 4,
   "metadata": {},
   "outputs": [
    {
     "data": {
      "text/plain": [
       "'d:\\\\Inventory-Management-and-Predictive-Analytics-with-IOT'"
      ]
     },
     "execution_count": 4,
     "metadata": {},
     "output_type": "execute_result"
    }
   ],
   "source": [
    "%pwd\n"
   ]
  },
  {
   "cell_type": "code",
   "execution_count": 5,
   "metadata": {},
   "outputs": [],
   "source": [
    "from sklearn.compose import ColumnTransformer\n",
    "from sklearn.pipeline import Pipeline\n",
    "from sklearn.impute import SimpleImputer\n",
    "from sklearn.preprocessing import StandardScaler,OrdinalEncoder,OneHotEncoder\n",
    "\n",
    "\n",
    "# Categorigal Pipeline\n",
    "categorical_cols_for_OrdinalEncoding = ['category']\n",
    "\n",
    "Numerical_col_1  = ['temperature','unit_price', 'timestamp_day_of_month', 'timestamp_day_of_week','timestamp_hour']\n",
    "\n",
    "Numerical_col_2  = ['quantity']\n",
    "\n",
    "categorical_col_for_OnehotEncoding = ['category']\n",
    "\n",
    "\n",
    "Numerical_pipeline_one_for_missingvalues = Pipeline(\n",
    "                steps=[\n",
    "                ('scaler',StandardScaler())\n",
    "                 ])\n",
    "\n",
    "Numerical_pipeline_two_for_missingvalues = Pipeline(\n",
    "                steps=[\n",
    "                ('imputer',SimpleImputer(strategy='constant', fill_value=0)),\n",
    "                ('scaler',StandardScaler())\n",
    "                 ])\n",
    "            \n",
    "categorical_pipeline_for_OnehotEncoding = Pipeline(\n",
    "                            steps=[\n",
    "                            ('one_hot_encoder', OneHotEncoder(sparse_output=False,handle_unknown = 'ignore')),\n",
    "                            ('scaler',StandardScaler())\n",
    "                            ]\n",
    "                            )\n",
    "\n",
    "preprocessor=ColumnTransformer(transformers= \n",
    "        [('Numerical_pipeline_1_for_missingvalues', Numerical_pipeline_one_for_missingvalues,Numerical_col_1),\n",
    "         ('Numerical_pipeline_2_for_missingvalues', Numerical_pipeline_two_for_missingvalues,Numerical_col_2),\n",
    "         ('categorical_pipeline_for_OnehotEncoding', categorical_pipeline_for_OnehotEncoding,categorical_col_for_OnehotEncoding )\n",
    "         ],\n",
    "                                                          remainder='passthrough',sparse_threshold=0)     \n",
    "\n",
    "\n",
    "\n"
   ]
  },
  {
   "cell_type": "code",
   "execution_count": 6,
   "metadata": {},
   "outputs": [],
   "source": [
    "import pandas as pd\n",
    "\n",
    "merged_df = pd.read_csv('artifacts/data_validation/validated_data_after_dropping_columns/merged_output.csv')"
   ]
  },
  {
   "cell_type": "code",
   "execution_count": 7,
   "metadata": {},
   "outputs": [
    {
     "data": {
      "text/html": [
       "<div>\n",
       "<style scoped>\n",
       "    .dataframe tbody tr th:only-of-type {\n",
       "        vertical-align: middle;\n",
       "    }\n",
       "\n",
       "    .dataframe tbody tr th {\n",
       "        vertical-align: top;\n",
       "    }\n",
       "\n",
       "    .dataframe thead th {\n",
       "        text-align: right;\n",
       "    }\n",
       "</style>\n",
       "<table border=\"1\" class=\"dataframe\">\n",
       "  <thead>\n",
       "    <tr style=\"text-align: right;\">\n",
       "      <th></th>\n",
       "      <th>estimated_stock_pct</th>\n",
       "      <th>quantity</th>\n",
       "      <th>temperature</th>\n",
       "      <th>category</th>\n",
       "      <th>unit_price</th>\n",
       "      <th>timestamp_day_of_month</th>\n",
       "      <th>timestamp_day_of_week</th>\n",
       "      <th>timestamp_hour</th>\n",
       "    </tr>\n",
       "  </thead>\n",
       "  <tbody>\n",
       "    <tr>\n",
       "      <th>0</th>\n",
       "      <td>0.89</td>\n",
       "      <td>3.0</td>\n",
       "      <td>-0.02885</td>\n",
       "      <td>kitchen</td>\n",
       "      <td>11.19</td>\n",
       "      <td>1</td>\n",
       "      <td>1</td>\n",
       "      <td>9</td>\n",
       "    </tr>\n",
       "    <tr>\n",
       "      <th>1</th>\n",
       "      <td>0.14</td>\n",
       "      <td>3.0</td>\n",
       "      <td>-0.02885</td>\n",
       "      <td>vegetables</td>\n",
       "      <td>1.49</td>\n",
       "      <td>1</td>\n",
       "      <td>1</td>\n",
       "      <td>9</td>\n",
       "    </tr>\n",
       "    <tr>\n",
       "      <th>2</th>\n",
       "      <td>0.67</td>\n",
       "      <td>0.0</td>\n",
       "      <td>-0.02885</td>\n",
       "      <td>baby products</td>\n",
       "      <td>14.19</td>\n",
       "      <td>1</td>\n",
       "      <td>1</td>\n",
       "      <td>9</td>\n",
       "    </tr>\n",
       "    <tr>\n",
       "      <th>3</th>\n",
       "      <td>0.82</td>\n",
       "      <td>0.0</td>\n",
       "      <td>-0.02885</td>\n",
       "      <td>beverages</td>\n",
       "      <td>20.19</td>\n",
       "      <td>1</td>\n",
       "      <td>1</td>\n",
       "      <td>9</td>\n",
       "    </tr>\n",
       "    <tr>\n",
       "      <th>4</th>\n",
       "      <td>0.05</td>\n",
       "      <td>0.0</td>\n",
       "      <td>-0.02885</td>\n",
       "      <td>pets</td>\n",
       "      <td>8.19</td>\n",
       "      <td>1</td>\n",
       "      <td>1</td>\n",
       "      <td>9</td>\n",
       "    </tr>\n",
       "  </tbody>\n",
       "</table>\n",
       "</div>"
      ],
      "text/plain": [
       "   estimated_stock_pct  quantity  temperature       category  unit_price  \\\n",
       "0                 0.89       3.0     -0.02885        kitchen       11.19   \n",
       "1                 0.14       3.0     -0.02885     vegetables        1.49   \n",
       "2                 0.67       0.0     -0.02885  baby products       14.19   \n",
       "3                 0.82       0.0     -0.02885      beverages       20.19   \n",
       "4                 0.05       0.0     -0.02885           pets        8.19   \n",
       "\n",
       "   timestamp_day_of_month  timestamp_day_of_week  timestamp_hour  \n",
       "0                       1                      1               9  \n",
       "1                       1                      1               9  \n",
       "2                       1                      1               9  \n",
       "3                       1                      1               9  \n",
       "4                       1                      1               9  "
      ]
     },
     "execution_count": 7,
     "metadata": {},
     "output_type": "execute_result"
    }
   ],
   "source": [
    "merged_df.head()"
   ]
  },
  {
   "cell_type": "code",
   "execution_count": 8,
   "metadata": {},
   "outputs": [
    {
     "data": {
      "text/plain": [
       "array([[ 0.28450808,  0.41770507, -1.50677743, ..., -0.21799646,\n",
       "        -0.212604  ,  0.89      ],\n",
       "       [ 0.28450808, -1.38192843, -1.50677743, ..., -0.21799646,\n",
       "         4.70358027,  0.14      ],\n",
       "       [ 0.28450808,  0.97429275, -1.50677743, ..., -0.21799646,\n",
       "        -0.212604  ,  0.67      ],\n",
       "       ...,\n",
       "       [ 0.07481138, -0.36151768,  1.49579523, ..., -0.21799646,\n",
       "        -0.212604  ,  0.78      ],\n",
       "       [ 0.07481138,  1.12271613,  1.49579523, ..., -0.21799646,\n",
       "        -0.212604  ,  0.92      ],\n",
       "       [ 0.07481138, -0.69547029,  1.49579523, ..., -0.21799646,\n",
       "        -0.212604  ,  0.01      ]])"
      ]
     },
     "execution_count": 8,
     "metadata": {},
     "output_type": "execute_result"
    }
   ],
   "source": [
    "preprocessor.fit_transform(merged_df)\n"
   ]
  },
  {
   "cell_type": "code",
   "execution_count": 9,
   "metadata": {},
   "outputs": [],
   "source": [
    "df_final = pd.DataFrame(preprocessor.fit_transform(merged_df))\n"
   ]
  },
  {
   "cell_type": "code",
   "execution_count": 10,
   "metadata": {},
   "outputs": [
    {
     "data": {
      "text/html": [
       "<div>\n",
       "<style scoped>\n",
       "    .dataframe tbody tr th:only-of-type {\n",
       "        vertical-align: middle;\n",
       "    }\n",
       "\n",
       "    .dataframe tbody tr th {\n",
       "        vertical-align: top;\n",
       "    }\n",
       "\n",
       "    .dataframe thead th {\n",
       "        text-align: right;\n",
       "    }\n",
       "</style>\n",
       "<table border=\"1\" class=\"dataframe\">\n",
       "  <thead>\n",
       "    <tr style=\"text-align: right;\">\n",
       "      <th></th>\n",
       "      <th>0</th>\n",
       "      <th>1</th>\n",
       "      <th>2</th>\n",
       "      <th>3</th>\n",
       "      <th>4</th>\n",
       "      <th>5</th>\n",
       "      <th>6</th>\n",
       "      <th>7</th>\n",
       "      <th>8</th>\n",
       "      <th>9</th>\n",
       "      <th>...</th>\n",
       "      <th>19</th>\n",
       "      <th>20</th>\n",
       "      <th>21</th>\n",
       "      <th>22</th>\n",
       "      <th>23</th>\n",
       "      <th>24</th>\n",
       "      <th>25</th>\n",
       "      <th>26</th>\n",
       "      <th>27</th>\n",
       "      <th>28</th>\n",
       "    </tr>\n",
       "  </thead>\n",
       "  <tbody>\n",
       "    <tr>\n",
       "      <th>0</th>\n",
       "      <td>0.284508</td>\n",
       "      <td>0.417705</td>\n",
       "      <td>-1.506777</td>\n",
       "      <td>-0.995194</td>\n",
       "      <td>-1.578795</td>\n",
       "      <td>1.16999</td>\n",
       "      <td>-0.217067</td>\n",
       "      <td>-0.22936</td>\n",
       "      <td>-0.224191</td>\n",
       "      <td>-0.231579</td>\n",
       "      <td>...</td>\n",
       "      <td>-0.220077</td>\n",
       "      <td>-0.204418</td>\n",
       "      <td>-0.221226</td>\n",
       "      <td>-0.202945</td>\n",
       "      <td>-0.22487</td>\n",
       "      <td>-0.217067</td>\n",
       "      <td>-0.229137</td>\n",
       "      <td>-0.217996</td>\n",
       "      <td>-0.212604</td>\n",
       "      <td>0.89</td>\n",
       "    </tr>\n",
       "    <tr>\n",
       "      <th>1</th>\n",
       "      <td>0.284508</td>\n",
       "      <td>-1.381928</td>\n",
       "      <td>-1.506777</td>\n",
       "      <td>-0.995194</td>\n",
       "      <td>-1.578795</td>\n",
       "      <td>1.16999</td>\n",
       "      <td>-0.217067</td>\n",
       "      <td>-0.22936</td>\n",
       "      <td>-0.224191</td>\n",
       "      <td>-0.231579</td>\n",
       "      <td>...</td>\n",
       "      <td>-0.220077</td>\n",
       "      <td>-0.204418</td>\n",
       "      <td>-0.221226</td>\n",
       "      <td>-0.202945</td>\n",
       "      <td>-0.22487</td>\n",
       "      <td>-0.217067</td>\n",
       "      <td>-0.229137</td>\n",
       "      <td>-0.217996</td>\n",
       "      <td>4.703580</td>\n",
       "      <td>0.14</td>\n",
       "    </tr>\n",
       "    <tr>\n",
       "      <th>2</th>\n",
       "      <td>0.284508</td>\n",
       "      <td>0.974293</td>\n",
       "      <td>-1.506777</td>\n",
       "      <td>-0.995194</td>\n",
       "      <td>-1.578795</td>\n",
       "      <td>-0.50824</td>\n",
       "      <td>4.606882</td>\n",
       "      <td>-0.22936</td>\n",
       "      <td>-0.224191</td>\n",
       "      <td>-0.231579</td>\n",
       "      <td>...</td>\n",
       "      <td>-0.220077</td>\n",
       "      <td>-0.204418</td>\n",
       "      <td>-0.221226</td>\n",
       "      <td>-0.202945</td>\n",
       "      <td>-0.22487</td>\n",
       "      <td>-0.217067</td>\n",
       "      <td>-0.229137</td>\n",
       "      <td>-0.217996</td>\n",
       "      <td>-0.212604</td>\n",
       "      <td>0.67</td>\n",
       "    </tr>\n",
       "    <tr>\n",
       "      <th>3</th>\n",
       "      <td>0.284508</td>\n",
       "      <td>2.087468</td>\n",
       "      <td>-1.506777</td>\n",
       "      <td>-0.995194</td>\n",
       "      <td>-1.578795</td>\n",
       "      <td>-0.50824</td>\n",
       "      <td>-0.217067</td>\n",
       "      <td>-0.22936</td>\n",
       "      <td>-0.224191</td>\n",
       "      <td>4.318187</td>\n",
       "      <td>...</td>\n",
       "      <td>-0.220077</td>\n",
       "      <td>-0.204418</td>\n",
       "      <td>-0.221226</td>\n",
       "      <td>-0.202945</td>\n",
       "      <td>-0.22487</td>\n",
       "      <td>-0.217067</td>\n",
       "      <td>-0.229137</td>\n",
       "      <td>-0.217996</td>\n",
       "      <td>-0.212604</td>\n",
       "      <td>0.82</td>\n",
       "    </tr>\n",
       "    <tr>\n",
       "      <th>4</th>\n",
       "      <td>0.284508</td>\n",
       "      <td>-0.138883</td>\n",
       "      <td>-1.506777</td>\n",
       "      <td>-0.995194</td>\n",
       "      <td>-1.578795</td>\n",
       "      <td>-0.50824</td>\n",
       "      <td>-0.217067</td>\n",
       "      <td>-0.22936</td>\n",
       "      <td>-0.224191</td>\n",
       "      <td>-0.231579</td>\n",
       "      <td>...</td>\n",
       "      <td>-0.220077</td>\n",
       "      <td>-0.204418</td>\n",
       "      <td>-0.221226</td>\n",
       "      <td>4.927446</td>\n",
       "      <td>-0.22487</td>\n",
       "      <td>-0.217067</td>\n",
       "      <td>-0.229137</td>\n",
       "      <td>-0.217996</td>\n",
       "      <td>-0.212604</td>\n",
       "      <td>0.05</td>\n",
       "    </tr>\n",
       "  </tbody>\n",
       "</table>\n",
       "<p>5 rows × 29 columns</p>\n",
       "</div>"
      ],
      "text/plain": [
       "         0         1         2         3         4        5         6   \\\n",
       "0  0.284508  0.417705 -1.506777 -0.995194 -1.578795  1.16999 -0.217067   \n",
       "1  0.284508 -1.381928 -1.506777 -0.995194 -1.578795  1.16999 -0.217067   \n",
       "2  0.284508  0.974293 -1.506777 -0.995194 -1.578795 -0.50824  4.606882   \n",
       "3  0.284508  2.087468 -1.506777 -0.995194 -1.578795 -0.50824 -0.217067   \n",
       "4  0.284508 -0.138883 -1.506777 -0.995194 -1.578795 -0.50824 -0.217067   \n",
       "\n",
       "        7         8         9   ...        19        20        21        22  \\\n",
       "0 -0.22936 -0.224191 -0.231579  ... -0.220077 -0.204418 -0.221226 -0.202945   \n",
       "1 -0.22936 -0.224191 -0.231579  ... -0.220077 -0.204418 -0.221226 -0.202945   \n",
       "2 -0.22936 -0.224191 -0.231579  ... -0.220077 -0.204418 -0.221226 -0.202945   \n",
       "3 -0.22936 -0.224191  4.318187  ... -0.220077 -0.204418 -0.221226 -0.202945   \n",
       "4 -0.22936 -0.224191 -0.231579  ... -0.220077 -0.204418 -0.221226  4.927446   \n",
       "\n",
       "        23        24        25        26        27    28  \n",
       "0 -0.22487 -0.217067 -0.229137 -0.217996 -0.212604  0.89  \n",
       "1 -0.22487 -0.217067 -0.229137 -0.217996  4.703580  0.14  \n",
       "2 -0.22487 -0.217067 -0.229137 -0.217996 -0.212604  0.67  \n",
       "3 -0.22487 -0.217067 -0.229137 -0.217996 -0.212604  0.82  \n",
       "4 -0.22487 -0.217067 -0.229137 -0.217996 -0.212604  0.05  \n",
       "\n",
       "[5 rows x 29 columns]"
      ]
     },
     "execution_count": 10,
     "metadata": {},
     "output_type": "execute_result"
    }
   ],
   "source": [
    "df_final.head()"
   ]
  },
  {
   "cell_type": "code",
   "execution_count": 11,
   "metadata": {},
   "outputs": [
    {
     "data": {
      "text/plain": [
       "(10845, 29)"
      ]
     },
     "execution_count": 11,
     "metadata": {},
     "output_type": "execute_result"
    }
   ],
   "source": [
    "df_final.shape"
   ]
  },
  {
   "cell_type": "code",
   "execution_count": 12,
   "metadata": {},
   "outputs": [],
   "source": [
    "from sklearn.model_selection import train_test_split\n",
    "\n",
    "train, test = train_test_split(df_final)"
   ]
  },
  {
   "cell_type": "code",
   "execution_count": 13,
   "metadata": {},
   "outputs": [
    {
     "data": {
      "text/plain": [
       "(8133, 29)"
      ]
     },
     "execution_count": 13,
     "metadata": {},
     "output_type": "execute_result"
    }
   ],
   "source": [
    "train.shape"
   ]
  },
  {
   "cell_type": "code",
   "execution_count": 14,
   "metadata": {},
   "outputs": [
    {
     "data": {
      "text/plain": [
       "(2712, 29)"
      ]
     },
     "execution_count": 14,
     "metadata": {},
     "output_type": "execute_result"
    }
   ],
   "source": [
    "test.shape"
   ]
  },
  {
   "cell_type": "code",
   "execution_count": null,
   "metadata": {},
   "outputs": [],
   "source": []
  },
  {
   "cell_type": "code",
   "execution_count": null,
   "metadata": {},
   "outputs": [],
   "source": []
  },
  {
   "cell_type": "code",
   "execution_count": 15,
   "metadata": {},
   "outputs": [],
   "source": [
    "import os\n",
    "from src.mlProject import logger\n",
    "from sklearn.model_selection import train_test_split\n",
    "import pandas as pd\n",
    "import numpy as np"
   ]
  },
  {
   "cell_type": "code",
   "execution_count": 16,
   "metadata": {},
   "outputs": [],
   "source": [
    "\n",
    "from src.mlProject.constants import *\n",
    "from src.mlProject.utils.common import *"
   ]
  },
  {
   "cell_type": "code",
   "execution_count": 17,
   "metadata": {},
   "outputs": [],
   "source": [
    "from dataclasses import dataclass\n",
    "from pathlib import Path\n",
    "\n",
    "@dataclass(frozen=True)\n",
    "class DataTransformationConfig:\n",
    "    root_dir: Path\n",
    "    train_file_path: Path\n",
    "    test_file_path: Path\n",
    "    transformed_object_file_path: Path\n",
    "    transformed_train_file_path: Path\n",
    "    transformed_test_file_path: Path"
   ]
  },
  {
   "cell_type": "code",
   "execution_count": 18,
   "metadata": {},
   "outputs": [],
   "source": [
    "class ConfigurationManager:\n",
    "    def __init__(\n",
    "        self,\n",
    "        config_filepath = CONFIG_FILE_PATH,\n",
    "        params_filepath = PARAMS_FILE_PATH,\n",
    "        schema_filepath = SCHEMA_FILE_PATH):\n",
    "\n",
    "        self.config = read_yaml(config_filepath)\n",
    "        self.params = read_yaml(params_filepath)\n",
    "        self.schema = read_yaml(schema_filepath)\n",
    "\n",
    "        create_directories([self.config.artifacts_root])\n",
    "\n",
    "    \n",
    "    def get_data_transformation_config(self) -> DataTransformationConfig:\n",
    "        config = self.config.data_transformation\n",
    "\n",
    "        create_directories([config.root_dir])\n",
    "\n",
    "        data_transformation_config = DataTransformationConfig(\n",
    "            root_dir=config.root_dir,\n",
    "            train_file_path = config.train_file_path,\n",
    "            test_file_path = config.test_file_path,\n",
    "            transformed_object_file_path = config.transformed_object_file_path,\n",
    "            transformed_train_file_path = config.transformed_train_file_path,\n",
    "            transformed_test_file_path = config.transformed_test_file_path\n",
    "        )\n",
    "\n",
    "        return data_transformation_config"
   ]
  },
  {
   "cell_type": "code",
   "execution_count": 19,
   "metadata": {},
   "outputs": [],
   "source": [
    "from src.mlProject.entity.config_entity import DataTransformationConfig\n",
    "import os\n",
    "from src.mlProject import logger\n",
    "from sklearn.model_selection import train_test_split\n",
    "import pandas as pd\n",
    "\n",
    "\n",
    "class DataTransformation:\n",
    "    def __init__(self, config: DataTransformationConfig):\n",
    "        self.config = config\n",
    "\n",
    "\n",
    "\n",
    "    def get_data_transformer_object(self):\n",
    "        try:\n",
    "\n",
    "            Numerical_col_1  = ['temperature','unit_price', 'timestamp_day_of_month', 'timestamp_day_of_week','timestamp_hour']\n",
    "\n",
    "            Numerical_col_2  = ['quantity']\n",
    "\n",
    "            categorical_col_for_OnehotEncoding = ['category']\n",
    "\n",
    "\n",
    "            Numerical_pipeline_one_for_missingvalues = Pipeline(\n",
    "                            steps=[\n",
    "                            ('scaler',StandardScaler())\n",
    "                            ])\n",
    "\n",
    "            Numerical_pipeline_two_for_missingvalues = Pipeline(\n",
    "                            steps=[\n",
    "                            ('imputer',SimpleImputer(strategy='constant', fill_value=0)),\n",
    "                            ('scaler',StandardScaler())\n",
    "                            ])\n",
    "                        \n",
    "            categorical_pipeline_for_OnehotEncoding = Pipeline(\n",
    "                                        steps=[\n",
    "                                        ('one_hot_encoder', OneHotEncoder(sparse_output=False,handle_unknown = 'ignore')),\n",
    "                                        ('scaler',StandardScaler())\n",
    "                                        ]\n",
    "                                        )\n",
    "\n",
    "            preprocessor=ColumnTransformer(transformers= \n",
    "                    [('Numerical_pipeline_1_for_missingvalues', Numerical_pipeline_one_for_missingvalues,Numerical_col_1),\n",
    "                    ('Numerical_pipeline_2_for_missingvalues', Numerical_pipeline_two_for_missingvalues,Numerical_col_2),\n",
    "                    ('categorical_pipeline_for_OnehotEncoding', categorical_pipeline_for_OnehotEncoding,categorical_col_for_OnehotEncoding )\n",
    "                    ],\n",
    "                                                                    remainder='passthrough',sparse_threshold=0)     \n",
    "            \n",
    "            return preprocessor\n",
    "            \n",
    "\n",
    "        except Exception as e:\n",
    "            raise e\n",
    "    \n",
    "    def initiate_data_transformation(self,):\n",
    "        try:\n",
    "            \n",
    "            train_df = pd.read_csv(self.config.train_file_path)\n",
    "            test_df = pd.read_csv(self.config.test_file_path)\n",
    "            preprocessor = self.get_data_transformer_object()\n",
    "\n",
    "\n",
    "            #training dataframe\n",
    "            input_feature_train_df = train_df.drop(columns='estimated_stock_pct', axis=1)\n",
    "            target_feature_train_df = train_df['estimated_stock_pct']\n",
    "\n",
    "            #testing dataframe\n",
    "            input_feature_test_df = test_df.drop(columns='estimated_stock_pct', axis=1)\n",
    "            target_feature_test_df = test_df['estimated_stock_pct']\n",
    "\n",
    "            preprocessor_object = preprocessor.fit(input_feature_train_df)\n",
    "            input_feature_train_final = preprocessor_object.transform(input_feature_train_df)\n",
    "            input_feature_test_final =preprocessor_object.transform(input_feature_test_df)\n",
    "\n",
    "\n",
    "            train_arr = np.c_[input_feature_train_final, np.array(target_feature_train_df)]\n",
    "            test_arr = np.c_[input_feature_test_final, np.array(target_feature_test_df)]\n",
    "\n",
    "\n",
    "            #save numpy array data\n",
    "\n",
    "            save_numpy_array(train_arr, self.config.transformed_train_file_path, 'train_array.npy')\n",
    "            save_numpy_array(test_arr, self.config.transformed_train_file_path, 'test_array.npy')\n",
    "            save_preprocessor(preprocessor_object, self.config.transformed_object_file_path)\n",
    "\n",
    "            \n",
    "            return (\n",
    "                train_arr,\n",
    "                test_arr,\n",
    "                self.config.transformed_object_file_path, preprocessor_object\n",
    "            )\n",
    "        \n",
    "        except Exception as e:\n",
    "            raise e\n",
    "            \n",
    "\n"
   ]
  },
  {
   "cell_type": "code",
   "execution_count": 20,
   "metadata": {},
   "outputs": [
    {
     "name": "stdout",
     "output_type": "stream",
     "text": [
      "[2023-11-21 13:22:48,767: INFO: common: yaml file: config\\config.yaml loaded successfully]\n",
      "[2023-11-21 13:22:48,775: INFO: common: yaml file: params.yaml loaded successfully]\n",
      "[2023-11-21 13:22:48,779: INFO: common: yaml file: schema.yaml loaded successfully]\n",
      "[2023-11-21 13:22:48,782: INFO: common: created directory at: artifacts]\n",
      "[2023-11-21 13:22:48,786: INFO: common: created directory at: artifacts/data_transformation]\n"
     ]
    },
    {
     "ename": "",
     "evalue": "",
     "output_type": "error",
     "traceback": [
      "\u001b[1;31mThe Kernel crashed while executing code in the the current cell or a previous cell. Please review the code in the cell(s) to identify a possible cause of the failure. Click <a href='https://aka.ms/vscodeJupyterKernelCrash'>here</a> for more info. View Jupyter <a href='command:jupyter.viewOutput'>log</a> for further details."
     ]
    }
   ],
   "source": [
    "try:\n",
    "    config = ConfigurationManager()\n",
    "    data_transformation_config = config.get_data_transformation_config()\n",
    "    data_transformation = DataTransformation(config=data_transformation_config)\n",
    "    data_transformation.get_data_transformer_object()\n",
    "    data_transformation.initiate_data_transformation()\n",
    "\n",
    "except Exception as e:\n",
    "    raise e"
   ]
  },
  {
   "cell_type": "code",
   "execution_count": null,
   "metadata": {},
   "outputs": [],
   "source": []
  }
 ],
 "metadata": {
  "kernelspec": {
   "display_name": "iot",
   "language": "python",
   "name": "python3"
  },
  "language_info": {
   "codemirror_mode": {
    "name": "ipython",
    "version": 3
   },
   "file_extension": ".py",
   "mimetype": "text/x-python",
   "name": "python",
   "nbconvert_exporter": "python",
   "pygments_lexer": "ipython3",
   "version": "3.8.18"
  }
 },
 "nbformat": 4,
 "nbformat_minor": 2
}
