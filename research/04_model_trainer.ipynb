{
 "cells": [
  {
   "cell_type": "code",
   "execution_count": 1,
   "metadata": {},
   "outputs": [],
   "source": [
    "import os\n"
   ]
  },
  {
   "cell_type": "code",
   "execution_count": 2,
   "metadata": {},
   "outputs": [
    {
     "data": {
      "text/plain": [
       "'d:\\\\Inventory-Management-and-Predictive-Analytics-with-IOT\\\\research'"
      ]
     },
     "execution_count": 2,
     "metadata": {},
     "output_type": "execute_result"
    }
   ],
   "source": [
    "%pwd\n"
   ]
  },
  {
   "cell_type": "code",
   "execution_count": 3,
   "metadata": {},
   "outputs": [],
   "source": [
    "os.chdir(\"../\")\n"
   ]
  },
  {
   "cell_type": "code",
   "execution_count": 4,
   "metadata": {},
   "outputs": [
    {
     "data": {
      "text/plain": [
       "'d:\\\\Inventory-Management-and-Predictive-Analytics-with-IOT'"
      ]
     },
     "execution_count": 4,
     "metadata": {},
     "output_type": "execute_result"
    }
   ],
   "source": [
    "%pwd\n"
   ]
  },
  {
   "cell_type": "code",
   "execution_count": 5,
   "metadata": {},
   "outputs": [],
   "source": [
    "from dataclasses import dataclass\n",
    "from pathlib import Path\n",
    "\n",
    "\n",
    "@dataclass(frozen=True)\n",
    "class ModelTrainerConfig:\n",
    "    root_dir: Path\n",
    "    train_data_path: Path\n",
    "    test_data_path: Path\n",
    "    model_name: str\n",
    "    target_column: str\n",
    "    n_estimators: int\n",
    "    min_weight_fraction_leaf: float\n",
    "    min_samples_split: int\n",
    "    min_samples_leaf: int\n",
    "    min_impurity_decrease: float\n",
    "    max_leaf_nodes: int\n",
    "    max_depth: int"
   ]
  },
  {
   "cell_type": "code",
   "execution_count": 6,
   "metadata": {},
   "outputs": [],
   "source": [
    "from src.mlProject.constants import *\n",
    "from src.mlProject.utils.common import *\n",
    "from sklearn.ensemble import RandomForestRegressor\n"
   ]
  },
  {
   "cell_type": "code",
   "execution_count": 7,
   "metadata": {},
   "outputs": [],
   "source": [
    "class ConfigurationManager:\n",
    "    def __init__(\n",
    "        self,\n",
    "        config_filepath = CONFIG_FILE_PATH,\n",
    "        params_filepath = PARAMS_FILE_PATH,\n",
    "        schema_filepath = SCHEMA_FILE_PATH):\n",
    "\n",
    "        self.config = read_yaml(config_filepath)\n",
    "        self.params = read_yaml(params_filepath)\n",
    "        self.schema = read_yaml(schema_filepath)\n",
    "\n",
    "        create_directories([self.config.artifacts_root])\n",
    "\n",
    "    \n",
    "    \n",
    "    def get_model_trainer_config(self) -> ModelTrainerConfig:\n",
    "        config = self.config.model_trainer\n",
    "        params = self.params.RandomForestRegressor\n",
    "        schema =  self.schema.TARGET_COLUMN\n",
    "\n",
    "        create_directories([config.root_dir])\n",
    "\n",
    "        model_trainer_config = ModelTrainerConfig(\n",
    "            root_dir=config.root_dir,\n",
    "            train_data_path = config.train_data_path,\n",
    "            test_data_path = config.test_data_path,\n",
    "            model_name = config.model_name,\n",
    "            target_column = schema.name,\n",
    "            n_estimators = params.n_estimators,\n",
    "            min_weight_fraction_leaf = params.min_weight_fraction_leaf,\n",
    "            min_samples_split = params.min_samples_split,\n",
    "            min_samples_leaf = params.min_samples_leaf,\n",
    "            min_impurity_decrease = params.min_impurity_decrease,\n",
    "            max_leaf_nodes = params.max_leaf_nodes,\n",
    "            max_depth = params.max_depth\n",
    "            \n",
    "        )\n",
    "\n",
    "        return model_trainer_config"
   ]
  },
  {
   "cell_type": "code",
   "execution_count": 8,
   "metadata": {},
   "outputs": [],
   "source": [
    "import pandas as pd\n",
    "import os\n",
    "from mlProject import logger\n",
    "import joblib"
   ]
  },
  {
   "cell_type": "code",
   "execution_count": 9,
   "metadata": {},
   "outputs": [],
   "source": [
    "class ModelTrainer:\n",
    "    def __init__(self, config: ModelTrainerConfig):\n",
    "        self.config = config\n",
    "\n",
    "    def train_model(self,x_train,y_train):\n",
    "        try:\n",
    "            rf_reg = RandomForestRegressor(n_estimators = self.config.n_estimators,\n",
    "                                            min_weight_fraction_leaf = self.config.min_weight_fraction_leaf,\n",
    "                                            min_samples_split = self.config.min_samples_split,\n",
    "                                            min_samples_leaf = self.config.min_samples_leaf,\n",
    "                                            min_impurity_decrease = self.config.min_impurity_decrease,\n",
    "                                            max_leaf_nodes = self.config.max_leaf_nodes,\n",
    "                                            max_depth = self.config.max_depth)\n",
    "                                                    \n",
    "            rf_reg.fit(x_train,y_train)\n",
    "            return rf_reg\n",
    "        except Exception as e:\n",
    "            raise e\n",
    "\n",
    "    \n",
    "    def train(self):\n",
    "        train_arr = load_numpy_array_data(self.config.train_data_path)\n",
    "        test_arr = load_numpy_array_data(self.config.test_data_path)\n",
    "\n",
    "\n",
    "        x_train, y_train, x_test, y_test = (\n",
    "                train_arr[:, :-1],\n",
    "                train_arr[:, -1],\n",
    "                test_arr[:, :-1],\n",
    "                test_arr[:, -1],\n",
    "            )\n",
    "        \n",
    "        model = self.train_model(x_train, y_train)\n",
    "\n",
    "\n",
    "        joblib.dump(model, os.path.join(self.config.root_dir, self.config.model_name))"
   ]
  },
  {
   "cell_type": "code",
   "execution_count": 10,
   "metadata": {},
   "outputs": [
    {
     "name": "stdout",
     "output_type": "stream",
     "text": [
      "[2023-11-21 16:36:22,692: INFO: common: yaml file: config\\config.yaml loaded successfully]\n",
      "[2023-11-21 16:36:22,703: INFO: common: yaml file: params.yaml loaded successfully]\n",
      "[2023-11-21 16:36:22,707: INFO: common: yaml file: schema.yaml loaded successfully]\n",
      "[2023-11-21 16:36:22,710: INFO: common: created directory at: artifacts]\n",
      "[2023-11-21 16:36:22,712: INFO: common: created directory at: artifacts/model_trainer]\n"
     ]
    }
   ],
   "source": [
    "try:\n",
    "    config = ConfigurationManager()\n",
    "    model_trainer_config = config.get_model_trainer_config()\n",
    "    model_trainer = ModelTrainer(config=model_trainer_config)\n",
    "    model_trainer.train()\n",
    "except Exception as e:\n",
    "    raise e"
   ]
  },
  {
   "cell_type": "code",
   "execution_count": null,
   "metadata": {},
   "outputs": [],
   "source": []
  },
  {
   "cell_type": "code",
   "execution_count": null,
   "metadata": {},
   "outputs": [],
   "source": []
  },
  {
   "cell_type": "code",
   "execution_count": null,
   "metadata": {},
   "outputs": [],
   "source": []
  },
  {
   "cell_type": "code",
   "execution_count": null,
   "metadata": {},
   "outputs": [],
   "source": []
  },
  {
   "cell_type": "code",
   "execution_count": null,
   "metadata": {},
   "outputs": [],
   "source": []
  },
  {
   "cell_type": "code",
   "execution_count": null,
   "metadata": {},
   "outputs": [],
   "source": []
  },
  {
   "cell_type": "code",
   "execution_count": null,
   "metadata": {},
   "outputs": [],
   "source": []
  }
 ],
 "metadata": {
  "kernelspec": {
   "display_name": "iot",
   "language": "python",
   "name": "python3"
  },
  "language_info": {
   "codemirror_mode": {
    "name": "ipython",
    "version": 3
   },
   "file_extension": ".py",
   "mimetype": "text/x-python",
   "name": "python",
   "nbconvert_exporter": "python",
   "pygments_lexer": "ipython3",
   "version": "3.8.18"
  }
 },
 "nbformat": 4,
 "nbformat_minor": 2
}
